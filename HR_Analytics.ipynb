{
 "cells": [
  {
   "cell_type": "code",
   "execution_count": 6,
   "metadata": {
    "id": "yh7TA98h9Vfh"
   },
   "outputs": [],
   "source": [
    "import numpy as np \n",
    "import pandas as pd \n",
    "import seaborn as sns \n",
    "import matplotlib.pyplot as plt\n",
    "from xgboost import XGBClassifier\n",
    "from sklearn.model_selection import train_test_split\n",
    "from imblearn.over_sampling import RandomOverSampler\n",
    "from collections import Counter\n",
    "from sklearn.preprocessing import OrdinalEncoder\n",
    "from sklearn.pipeline import Pipeline\n",
    "from sklearn.compose import ColumnTransformer\n",
    "from sklearn.tree import DecisionTreeClassifier\n",
    "from sklearn.model_selection import GridSearchCV\n",
    "from sklearn.tree import DecisionTreeClassifier\n",
    "from sklearn.metrics import plot_roc_curve\n",
    "from sklearn.dummy import DummyClassifier\n",
    "from sklearn.metrics import accuracy_score\n",
    "from sklearn.metrics import classification_report\n",
    "from sklearn.ensemble import RandomForestClassifier\n",
    "from sklearn.model_selection import GridSearchCV\n",
    "from sklearn.linear_model import LogisticRegression\n",
    "from sklearn.neighbors import KNeighborsClassifier"
   ]
  },
  {
   "cell_type": "code",
   "execution_count": 8,
   "metadata": {
    "colab": {
     "base_uri": "https://localhost:8080/"
    },
    "id": "xguBskiN_c7q",
    "outputId": "2f63f8b6-7da6-4a83-8890-108a8cdc03d4"
   },
   "outputs": [
    {
     "name": "stdout",
     "output_type": "stream",
     "text": [
      "Mounted at /content/gdrive\n"
     ]
    }
   ],
   "source": [
    "from google.colab import drive\n",
    "drive.mount('/content/gdrive')"
   ]
  },
  {
   "cell_type": "code",
   "execution_count": 9,
   "metadata": {
    "id": "x6z5AD-V9f_N"
   },
   "outputs": [],
   "source": [
    "# load the data\n",
    "\n",
    "train_data = pd.read_csv('gdrive/MyDrive/aug_train.csv') \n"
   ]
  },
  {
   "cell_type": "code",
   "execution_count": 10,
   "metadata": {
    "colab": {
     "base_uri": "https://localhost:8080/",
     "height": 270
    },
    "id": "LJv99Kh0-Pd0",
    "outputId": "049ef8ac-55cc-403c-e6a1-b968b35d55c6"
   },
   "outputs": [
    {
     "data": {
      "text/html": [
       "\n",
       "  <div id=\"df-3a570f36-1b87-4e14-804a-091f11ea1994\">\n",
       "    <div class=\"colab-df-container\">\n",
       "      <div>\n",
       "<style scoped>\n",
       "    .dataframe tbody tr th:only-of-type {\n",
       "        vertical-align: middle;\n",
       "    }\n",
       "\n",
       "    .dataframe tbody tr th {\n",
       "        vertical-align: top;\n",
       "    }\n",
       "\n",
       "    .dataframe thead th {\n",
       "        text-align: right;\n",
       "    }\n",
       "</style>\n",
       "<table border=\"1\" class=\"dataframe\">\n",
       "  <thead>\n",
       "    <tr style=\"text-align: right;\">\n",
       "      <th></th>\n",
       "      <th>enrollee_id</th>\n",
       "      <th>city</th>\n",
       "      <th>city_development_index</th>\n",
       "      <th>gender</th>\n",
       "      <th>relevent_experience</th>\n",
       "      <th>enrolled_university</th>\n",
       "      <th>education_level</th>\n",
       "      <th>major_discipline</th>\n",
       "      <th>experience</th>\n",
       "      <th>company_size</th>\n",
       "      <th>company_type</th>\n",
       "      <th>last_new_job</th>\n",
       "      <th>training_hours</th>\n",
       "      <th>target</th>\n",
       "    </tr>\n",
       "  </thead>\n",
       "  <tbody>\n",
       "    <tr>\n",
       "      <th>0</th>\n",
       "      <td>8949</td>\n",
       "      <td>city_103</td>\n",
       "      <td>0.920</td>\n",
       "      <td>Male</td>\n",
       "      <td>Has relevent experience</td>\n",
       "      <td>no_enrollment</td>\n",
       "      <td>Graduate</td>\n",
       "      <td>STEM</td>\n",
       "      <td>&gt;20</td>\n",
       "      <td>NaN</td>\n",
       "      <td>NaN</td>\n",
       "      <td>1</td>\n",
       "      <td>36</td>\n",
       "      <td>1.0</td>\n",
       "    </tr>\n",
       "    <tr>\n",
       "      <th>1</th>\n",
       "      <td>29725</td>\n",
       "      <td>city_40</td>\n",
       "      <td>0.776</td>\n",
       "      <td>Male</td>\n",
       "      <td>No relevent experience</td>\n",
       "      <td>no_enrollment</td>\n",
       "      <td>Graduate</td>\n",
       "      <td>STEM</td>\n",
       "      <td>15</td>\n",
       "      <td>50-99</td>\n",
       "      <td>Pvt Ltd</td>\n",
       "      <td>&gt;4</td>\n",
       "      <td>47</td>\n",
       "      <td>0.0</td>\n",
       "    </tr>\n",
       "    <tr>\n",
       "      <th>2</th>\n",
       "      <td>11561</td>\n",
       "      <td>city_21</td>\n",
       "      <td>0.624</td>\n",
       "      <td>NaN</td>\n",
       "      <td>No relevent experience</td>\n",
       "      <td>Full time course</td>\n",
       "      <td>Graduate</td>\n",
       "      <td>STEM</td>\n",
       "      <td>5</td>\n",
       "      <td>NaN</td>\n",
       "      <td>NaN</td>\n",
       "      <td>never</td>\n",
       "      <td>83</td>\n",
       "      <td>0.0</td>\n",
       "    </tr>\n",
       "    <tr>\n",
       "      <th>3</th>\n",
       "      <td>33241</td>\n",
       "      <td>city_115</td>\n",
       "      <td>0.789</td>\n",
       "      <td>NaN</td>\n",
       "      <td>No relevent experience</td>\n",
       "      <td>NaN</td>\n",
       "      <td>Graduate</td>\n",
       "      <td>Business Degree</td>\n",
       "      <td>&lt;1</td>\n",
       "      <td>NaN</td>\n",
       "      <td>Pvt Ltd</td>\n",
       "      <td>never</td>\n",
       "      <td>52</td>\n",
       "      <td>1.0</td>\n",
       "    </tr>\n",
       "    <tr>\n",
       "      <th>4</th>\n",
       "      <td>666</td>\n",
       "      <td>city_162</td>\n",
       "      <td>0.767</td>\n",
       "      <td>Male</td>\n",
       "      <td>Has relevent experience</td>\n",
       "      <td>no_enrollment</td>\n",
       "      <td>Masters</td>\n",
       "      <td>STEM</td>\n",
       "      <td>&gt;20</td>\n",
       "      <td>50-99</td>\n",
       "      <td>Funded Startup</td>\n",
       "      <td>4</td>\n",
       "      <td>8</td>\n",
       "      <td>0.0</td>\n",
       "    </tr>\n",
       "  </tbody>\n",
       "</table>\n",
       "</div>\n",
       "      <button class=\"colab-df-convert\" onclick=\"convertToInteractive('df-3a570f36-1b87-4e14-804a-091f11ea1994')\"\n",
       "              title=\"Convert this dataframe to an interactive table.\"\n",
       "              style=\"display:none;\">\n",
       "        \n",
       "  <svg xmlns=\"http://www.w3.org/2000/svg\" height=\"24px\"viewBox=\"0 0 24 24\"\n",
       "       width=\"24px\">\n",
       "    <path d=\"M0 0h24v24H0V0z\" fill=\"none\"/>\n",
       "    <path d=\"M18.56 5.44l.94 2.06.94-2.06 2.06-.94-2.06-.94-.94-2.06-.94 2.06-2.06.94zm-11 1L8.5 8.5l.94-2.06 2.06-.94-2.06-.94L8.5 2.5l-.94 2.06-2.06.94zm10 10l.94 2.06.94-2.06 2.06-.94-2.06-.94-.94-2.06-.94 2.06-2.06.94z\"/><path d=\"M17.41 7.96l-1.37-1.37c-.4-.4-.92-.59-1.43-.59-.52 0-1.04.2-1.43.59L10.3 9.45l-7.72 7.72c-.78.78-.78 2.05 0 2.83L4 21.41c.39.39.9.59 1.41.59.51 0 1.02-.2 1.41-.59l7.78-7.78 2.81-2.81c.8-.78.8-2.07 0-2.86zM5.41 20L4 18.59l7.72-7.72 1.47 1.35L5.41 20z\"/>\n",
       "  </svg>\n",
       "      </button>\n",
       "      \n",
       "  <style>\n",
       "    .colab-df-container {\n",
       "      display:flex;\n",
       "      flex-wrap:wrap;\n",
       "      gap: 12px;\n",
       "    }\n",
       "\n",
       "    .colab-df-convert {\n",
       "      background-color: #E8F0FE;\n",
       "      border: none;\n",
       "      border-radius: 50%;\n",
       "      cursor: pointer;\n",
       "      display: none;\n",
       "      fill: #1967D2;\n",
       "      height: 32px;\n",
       "      padding: 0 0 0 0;\n",
       "      width: 32px;\n",
       "    }\n",
       "\n",
       "    .colab-df-convert:hover {\n",
       "      background-color: #E2EBFA;\n",
       "      box-shadow: 0px 1px 2px rgba(60, 64, 67, 0.3), 0px 1px 3px 1px rgba(60, 64, 67, 0.15);\n",
       "      fill: #174EA6;\n",
       "    }\n",
       "\n",
       "    [theme=dark] .colab-df-convert {\n",
       "      background-color: #3B4455;\n",
       "      fill: #D2E3FC;\n",
       "    }\n",
       "\n",
       "    [theme=dark] .colab-df-convert:hover {\n",
       "      background-color: #434B5C;\n",
       "      box-shadow: 0px 1px 3px 1px rgba(0, 0, 0, 0.15);\n",
       "      filter: drop-shadow(0px 1px 2px rgba(0, 0, 0, 0.3));\n",
       "      fill: #FFFFFF;\n",
       "    }\n",
       "  </style>\n",
       "\n",
       "      <script>\n",
       "        const buttonEl =\n",
       "          document.querySelector('#df-3a570f36-1b87-4e14-804a-091f11ea1994 button.colab-df-convert');\n",
       "        buttonEl.style.display =\n",
       "          google.colab.kernel.accessAllowed ? 'block' : 'none';\n",
       "\n",
       "        async function convertToInteractive(key) {\n",
       "          const element = document.querySelector('#df-3a570f36-1b87-4e14-804a-091f11ea1994');\n",
       "          const dataTable =\n",
       "            await google.colab.kernel.invokeFunction('convertToInteractive',\n",
       "                                                     [key], {});\n",
       "          if (!dataTable) return;\n",
       "\n",
       "          const docLinkHtml = 'Like what you see? Visit the ' +\n",
       "            '<a target=\"_blank\" href=https://colab.research.google.com/notebooks/data_table.ipynb>data table notebook</a>'\n",
       "            + ' to learn more about interactive tables.';\n",
       "          element.innerHTML = '';\n",
       "          dataTable['output_type'] = 'display_data';\n",
       "          await google.colab.output.renderOutput(dataTable, element);\n",
       "          const docLink = document.createElement('div');\n",
       "          docLink.innerHTML = docLinkHtml;\n",
       "          element.appendChild(docLink);\n",
       "        }\n",
       "      </script>\n",
       "    </div>\n",
       "  </div>\n",
       "  "
      ],
      "text/plain": [
       "   enrollee_id      city  city_development_index gender  \\\n",
       "0         8949  city_103                   0.920   Male   \n",
       "1        29725   city_40                   0.776   Male   \n",
       "2        11561   city_21                   0.624    NaN   \n",
       "3        33241  city_115                   0.789    NaN   \n",
       "4          666  city_162                   0.767   Male   \n",
       "\n",
       "       relevent_experience enrolled_university education_level  \\\n",
       "0  Has relevent experience       no_enrollment        Graduate   \n",
       "1   No relevent experience       no_enrollment        Graduate   \n",
       "2   No relevent experience    Full time course        Graduate   \n",
       "3   No relevent experience                 NaN        Graduate   \n",
       "4  Has relevent experience       no_enrollment         Masters   \n",
       "\n",
       "  major_discipline experience company_size    company_type last_new_job  \\\n",
       "0             STEM        >20          NaN             NaN            1   \n",
       "1             STEM         15        50-99         Pvt Ltd           >4   \n",
       "2             STEM          5          NaN             NaN        never   \n",
       "3  Business Degree         <1          NaN         Pvt Ltd        never   \n",
       "4             STEM        >20        50-99  Funded Startup            4   \n",
       "\n",
       "   training_hours  target  \n",
       "0              36     1.0  \n",
       "1              47     0.0  \n",
       "2              83     0.0  \n",
       "3              52     1.0  \n",
       "4               8     0.0  "
      ]
     },
     "execution_count": 10,
     "metadata": {},
     "output_type": "execute_result"
    }
   ],
   "source": [
    "#exploratory data analysis\n",
    "\n",
    "train_data.head()"
   ]
  },
  {
   "cell_type": "code",
   "execution_count": 11,
   "metadata": {
    "colab": {
     "base_uri": "https://localhost:8080/"
    },
    "id": "1M6I2lIjADeX",
    "outputId": "00aad1a4-82ed-4e3e-8fba-8d7d6566ad4f"
   },
   "outputs": [
    {
     "data": {
      "text/plain": [
       "(19158, 14)"
      ]
     },
     "execution_count": 11,
     "metadata": {},
     "output_type": "execute_result"
    }
   ],
   "source": [
    "train_data.shape"
   ]
  },
  {
   "cell_type": "code",
   "execution_count": 12,
   "metadata": {
    "colab": {
     "base_uri": "https://localhost:8080/"
    },
    "id": "0sDIN1K6AKAl",
    "outputId": "09dab2f9-a418-4642-91ec-9de293c31ceb"
   },
   "outputs": [
    {
     "name": "stdout",
     "output_type": "stream",
     "text": [
      "Missing values in the train dataset:\n",
      "\n",
      " enrollee_id                  0\n",
      "city                         0\n",
      "city_development_index       0\n",
      "gender                    4508\n",
      "relevent_experience          0\n",
      "enrolled_university        386\n",
      "education_level            460\n",
      "major_discipline          2813\n",
      "experience                  65\n",
      "company_size              5938\n",
      "company_type              6140\n",
      "last_new_job               423\n",
      "training_hours               0\n",
      "target                       0\n",
      "dtype: int64\n"
     ]
    }
   ],
   "source": [
    "#It looks like some values in the dataset are NaN, we would like to further inspect to which extent it affects our data.\n",
    "\n",
    "print(\"Missing values in the train dataset:\\n\\n\",train_data.isna().sum())"
   ]
  },
  {
   "cell_type": "code",
   "execution_count": 13,
   "metadata": {
    "colab": {
     "base_uri": "https://localhost:8080/",
     "height": 1000
    },
    "id": "5bMT7oWuARdj",
    "outputId": "575109fa-c351-4319-8ac0-3dc0a12e60f3"
   },
   "outputs": [
    {
     "name": "stderr",
     "output_type": "stream",
     "text": [
      "findfont: Font family ['Helvetica'] not found. Falling back to DejaVu Sans.\n"
     ]
    },
    {
     "data": {
      "image/png": "[encoded data removed]",
      "text/plain": [
       "<Figure size 864x468 with 1 Axes>"
      ]
     },
     "metadata": {
      "needs_background": "light"
     },
     "output_type": "display_data"
    },
    {
     "data": {
      "image/png": "[encoded data removed]",
      "text/plain": [
       "<Figure size 864x468 with 1 Axes>"
      ]
     },
     "metadata": {
      "needs_background": "light"
     },
     "output_type": "display_data"
    },
    {
     "data": {
      "image/png": "[encoded data removed]",
      "text/plain": [
       "<Figure size 864x468 with 1 Axes>"
      ]
     },
     "metadata": {
      "needs_background": "light"
     },
     "output_type": "display_data"
    },
    {
     "data": {
      "image/png": "[encoded data removed]",
      "text/plain": [
       "<Figure size 864x468 with 1 Axes>"
      ]
     },
     "metadata": {
      "needs_background": "light"
     },
     "output_type": "display_data"
    },
    {
     "data": {
      "image/png": "[encoded data removed]",
      "text/plain": [
       "<Figure size 864x468 with 1 Axes>"
      ]
     },
     "metadata": {
      "needs_background": "light"
     },
     "output_type": "display_data"
    },
    {
     "data": {
      "image/png": "[encoded data removed]",
      "text/plain": [
       "<Figure size 864x468 with 1 Axes>"
      ]
     },
     "metadata": {
      "needs_background": "light"
     },
     "output_type": "display_data"
    },
    {
     "data": {
      "image/png": "[encoded data removed]",
      "text/plain": [
       "<Figure size 864x468 with 1 Axes>"
      ]
     },
     "metadata": {
      "needs_background": "light"
     },
     "output_type": "display_data"
    },
    {
     "data": {
      "image/png": "[encoded data removed]",
      "text/plain": [
       "<Figure size 864x468 with 1 Axes>"
      ]
     },
     "metadata": {
      "needs_background": "light"
     },
     "output_type": "display_data"
    }
   ],
   "source": [
    "#Let's plot all the column into barcharts to see the distribution of values. As we want our chart to be accesible, we will use colorblind palette.\n",
    "\n",
    "cols_with_nan_data = train_data[['gender', 'enrolled_university', 'major_discipline', 'experience', 'company_size', 'last_new_job', 'company_type', 'education_level']]   \n",
    "colorblind_palette = sns.color_palette(\"colorblind\")\n",
    "\n",
    "for i in cols_with_nan_data:\n",
    "    plt.figure(figsize=(12,6.5)) \n",
    "    plt.title(i, fontsize=15, fontweight='bold', fontname='Helvetica', ha='center')\n",
    "    sns.countplot(data = train_data[i], x = cols_with_nan_data[i], palette=colorblind_palette)\n",
    "    plt.show()"
   ]
  },
  {
   "cell_type": "code",
   "execution_count": 14,
   "metadata": {
    "colab": {
     "base_uri": "https://localhost:8080/",
     "height": 406
    },
    "id": "Xo9_sW5KAYGJ",
    "outputId": "abaa7f1b-933a-4a9d-8cbc-79d7a1aaa744"
   },
   "outputs": [
    {
     "data": {
      "image/png": "[encoded data removed]",
      "text/plain": [
       "<Figure size 864x432 with 1 Axes>"
      ]
     },
     "metadata": {
      "needs_background": "light"
     },
     "output_type": "display_data"
    }
   ],
   "source": [
    "# We are also interested in whether the target variable is balanced or not.\n",
    "\n",
    "plt.figure(figsize=(12,6))\n",
    "plt.title(\"Imbalanced target variable\", fontsize=15, fontweight='bold', fontname='Helvetica', ha='center')\n",
    "ax = sns.countplot(x='target', data=train_data)"
   ]
  },
  {
   "cell_type": "code",
   "execution_count": 15,
   "metadata": {
    "colab": {
     "base_uri": "https://localhost:8080/"
    },
    "id": "0LaLr3DCAeSQ",
    "outputId": "ed1d4035-46ce-4bcc-ab00-1d2dd7278854"
   },
   "outputs": [
    {
     "data": {
      "text/plain": [
       "(19158, 14)"
      ]
     },
     "execution_count": 15,
     "metadata": {},
     "output_type": "execute_result"
    }
   ],
   "source": [
    "# Handling null values\n",
    "\n",
    "data=train_data\n",
    "data.shape"
   ]
  },
  {
   "cell_type": "code",
   "execution_count": 16,
   "metadata": {
    "id": "2kpO6zifAn19"
   },
   "outputs": [],
   "source": [
    "# Now we will take care of all attributes with NaN values as shown in graphs above.\n",
    "\n",
    "data['city'] = data['city'].str.split(\"_\",expand=True)[1].astype('int64')\n",
    "data['gender'] = data['gender'].replace(np.nan, 'Male')\n",
    "data['enrolled_university'] = data['enrolled_university'].replace(np.nan, 'no_enrollment')\n",
    "data['education_level'] = data['education_level'].replace(np.nan,'Graduate')\n",
    "data['major_discipline'] = data['major_discipline'].replace(np.nan,'STEM')\n",
    "data['experience'] = data['experience'].replace(np.nan,'>20')\n",
    "data['company_size'] = data['company_size'].replace(np.nan,'50-99')\n",
    "data['company_type'] = data['company_type'].replace(np.nan,'Pvt Ltd')\n",
    "data['last_new_job'] = data['last_new_job'].replace(np.nan,'1')"
   ]
  },
  {
   "cell_type": "code",
   "execution_count": 17,
   "metadata": {
    "id": "7DJJ9iu1AuJw"
   },
   "outputs": [],
   "source": [
    "# Since value 'Other' has very low frequency in gender attribute, we will get rid of it.\n",
    "\n",
    "data = data[data.gender != 'Other']"
   ]
  },
  {
   "cell_type": "code",
   "execution_count": 18,
   "metadata": {
    "colab": {
     "base_uri": "https://localhost:8080/"
    },
    "id": "Lsm_-uS3Axn_",
    "outputId": "400a23cb-88ad-4f78-a7e7-733dc7ab2e09"
   },
   "outputs": [
    {
     "data": {
      "text/plain": [
       "(18967, 14)"
      ]
     },
     "execution_count": 18,
     "metadata": {},
     "output_type": "execute_result"
    }
   ],
   "source": [
    "data.shape"
   ]
  },
  {
   "cell_type": "code",
   "execution_count": 19,
   "metadata": {
    "colab": {
     "base_uri": "https://localhost:8080/"
    },
    "id": "M9YFvsOJA1Qa",
    "outputId": "46fef558-3ce2-4ac7-d75d-3698687459ef"
   },
   "outputs": [
    {
     "name": "stdout",
     "output_type": "stream",
     "text": [
      "<class 'pandas.core.frame.DataFrame'>\n",
      "Int64Index: 18967 entries, 0 to 19157\n",
      "Data columns (total 14 columns):\n",
      " #   Column                  Non-Null Count  Dtype  \n",
      "---  ------                  --------------  -----  \n",
      " 0   enrollee_id             18967 non-null  int64  \n",
      " 1   city                    18967 non-null  int64  \n",
      " 2   city_development_index  18967 non-null  float64\n",
      " 3   gender                  18967 non-null  object \n",
      " 4   relevent_experience     18967 non-null  object \n",
      " 5   enrolled_university     18967 non-null  object \n",
      " 6   education_level         18967 non-null  object \n",
      " 7   major_discipline        18967 non-null  object \n",
      " 8   experience              18967 non-null  object \n",
      " 9   company_size            18967 non-null  object \n",
      " 10  company_type            18967 non-null  object \n",
      " 11  last_new_job            18967 non-null  object \n",
      " 12  training_hours          18967 non-null  int64  \n",
      " 13  target                  18967 non-null  float64\n",
      "dtypes: float64(2), int64(3), object(9)\n",
      "memory usage: 2.2+ MB\n"
     ]
    }
   ],
   "source": [
    "# We've successfully replaced all NaN values:\n",
    "\n",
    "data.info()"
   ]
  },
  {
   "cell_type": "code",
   "execution_count": 20,
   "metadata": {
    "colab": {
     "base_uri": "https://localhost:8080/",
     "height": 317
    },
    "id": "OOA1KBD6A7XZ",
    "outputId": "4e0b2509-e9ba-4a64-93bc-4896e7697f69"
   },
   "outputs": [
    {
     "data": {
      "text/html": [
       "\n",
       "  <div id=\"df-3fbd0b5d-16f9-4cca-bdf8-43310bbef595\">\n",
       "    <div class=\"colab-df-container\">\n",
       "      <div>\n",
       "<style scoped>\n",
       "    .dataframe tbody tr th:only-of-type {\n",
       "        vertical-align: middle;\n",
       "    }\n",
       "\n",
       "    .dataframe tbody tr th {\n",
       "        vertical-align: top;\n",
       "    }\n",
       "\n",
       "    .dataframe thead th {\n",
       "        text-align: right;\n",
       "    }\n",
       "</style>\n",
       "<table border=\"1\" class=\"dataframe\">\n",
       "  <thead>\n",
       "    <tr style=\"text-align: right;\">\n",
       "      <th></th>\n",
       "      <th>enrollee_id</th>\n",
       "      <th>city</th>\n",
       "      <th>city_development_index</th>\n",
       "      <th>education_level</th>\n",
       "      <th>experience</th>\n",
       "      <th>company_size</th>\n",
       "      <th>last_new_job</th>\n",
       "      <th>training_hours</th>\n",
       "      <th>target</th>\n",
       "      <th>gender_Female</th>\n",
       "      <th>...</th>\n",
       "      <th>major_discipline_Humanities</th>\n",
       "      <th>major_discipline_No Major</th>\n",
       "      <th>major_discipline_Other</th>\n",
       "      <th>major_discipline_STEM</th>\n",
       "      <th>company_type_Early Stage Startup</th>\n",
       "      <th>company_type_Funded Startup</th>\n",
       "      <th>company_type_NGO</th>\n",
       "      <th>company_type_Other</th>\n",
       "      <th>company_type_Public Sector</th>\n",
       "      <th>company_type_Pvt Ltd</th>\n",
       "    </tr>\n",
       "  </thead>\n",
       "  <tbody>\n",
       "    <tr>\n",
       "      <th>0</th>\n",
       "      <td>8949</td>\n",
       "      <td>103</td>\n",
       "      <td>0.920</td>\n",
       "      <td>3.0</td>\n",
       "      <td>22.0</td>\n",
       "      <td>3.0</td>\n",
       "      <td>1.0</td>\n",
       "      <td>36</td>\n",
       "      <td>1.0</td>\n",
       "      <td>0</td>\n",
       "      <td>...</td>\n",
       "      <td>0</td>\n",
       "      <td>0</td>\n",
       "      <td>0</td>\n",
       "      <td>1</td>\n",
       "      <td>0</td>\n",
       "      <td>0</td>\n",
       "      <td>0</td>\n",
       "      <td>0</td>\n",
       "      <td>0</td>\n",
       "      <td>1</td>\n",
       "    </tr>\n",
       "    <tr>\n",
       "      <th>1</th>\n",
       "      <td>29725</td>\n",
       "      <td>40</td>\n",
       "      <td>0.776</td>\n",
       "      <td>3.0</td>\n",
       "      <td>16.0</td>\n",
       "      <td>3.0</td>\n",
       "      <td>5.0</td>\n",
       "      <td>47</td>\n",
       "      <td>0.0</td>\n",
       "      <td>0</td>\n",
       "      <td>...</td>\n",
       "      <td>0</td>\n",
       "      <td>0</td>\n",
       "      <td>0</td>\n",
       "      <td>1</td>\n",
       "      <td>0</td>\n",
       "      <td>0</td>\n",
       "      <td>0</td>\n",
       "      <td>0</td>\n",
       "      <td>0</td>\n",
       "      <td>1</td>\n",
       "    </tr>\n",
       "    <tr>\n",
       "      <th>2</th>\n",
       "      <td>11561</td>\n",
       "      <td>21</td>\n",
       "      <td>0.624</td>\n",
       "      <td>3.0</td>\n",
       "      <td>6.0</td>\n",
       "      <td>3.0</td>\n",
       "      <td>6.0</td>\n",
       "      <td>83</td>\n",
       "      <td>0.0</td>\n",
       "      <td>0</td>\n",
       "      <td>...</td>\n",
       "      <td>0</td>\n",
       "      <td>0</td>\n",
       "      <td>0</td>\n",
       "      <td>1</td>\n",
       "      <td>0</td>\n",
       "      <td>0</td>\n",
       "      <td>0</td>\n",
       "      <td>0</td>\n",
       "      <td>0</td>\n",
       "      <td>1</td>\n",
       "    </tr>\n",
       "    <tr>\n",
       "      <th>3</th>\n",
       "      <td>33241</td>\n",
       "      <td>115</td>\n",
       "      <td>0.789</td>\n",
       "      <td>3.0</td>\n",
       "      <td>1.0</td>\n",
       "      <td>3.0</td>\n",
       "      <td>6.0</td>\n",
       "      <td>52</td>\n",
       "      <td>1.0</td>\n",
       "      <td>0</td>\n",
       "      <td>...</td>\n",
       "      <td>0</td>\n",
       "      <td>0</td>\n",
       "      <td>0</td>\n",
       "      <td>0</td>\n",
       "      <td>0</td>\n",
       "      <td>0</td>\n",
       "      <td>0</td>\n",
       "      <td>0</td>\n",
       "      <td>0</td>\n",
       "      <td>1</td>\n",
       "    </tr>\n",
       "    <tr>\n",
       "      <th>4</th>\n",
       "      <td>666</td>\n",
       "      <td>162</td>\n",
       "      <td>0.767</td>\n",
       "      <td>4.0</td>\n",
       "      <td>22.0</td>\n",
       "      <td>3.0</td>\n",
       "      <td>4.0</td>\n",
       "      <td>8</td>\n",
       "      <td>0.0</td>\n",
       "      <td>0</td>\n",
       "      <td>...</td>\n",
       "      <td>0</td>\n",
       "      <td>0</td>\n",
       "      <td>0</td>\n",
       "      <td>1</td>\n",
       "      <td>0</td>\n",
       "      <td>1</td>\n",
       "      <td>0</td>\n",
       "      <td>0</td>\n",
       "      <td>0</td>\n",
       "      <td>0</td>\n",
       "    </tr>\n",
       "  </tbody>\n",
       "</table>\n",
       "<p>5 rows × 28 columns</p>\n",
       "</div>\n",
       "      <button class=\"colab-df-convert\" onclick=\"convertToInteractive('df-3fbd0b5d-16f9-4cca-bdf8-43310bbef595')\"\n",
       "              title=\"Convert this dataframe to an interactive table.\"\n",
       "              style=\"display:none;\">\n",
       "        \n",
       "  <svg xmlns=\"http://www.w3.org/2000/svg\" height=\"24px\"viewBox=\"0 0 24 24\"\n",
       "       width=\"24px\">\n",
       "    <path d=\"M0 0h24v24H0V0z\" fill=\"none\"/>\n",
       "    <path d=\"M18.56 5.44l.94 2.06.94-2.06 2.06-.94-2.06-.94-.94-2.06-.94 2.06-2.06.94zm-11 1L8.5 8.5l.94-2.06 2.06-.94-2.06-.94L8.5 2.5l-.94 2.06-2.06.94zm10 10l.94 2.06.94-2.06 2.06-.94-2.06-.94-.94-2.06-.94 2.06-2.06.94z\"/><path d=\"M17.41 7.96l-1.37-1.37c-.4-.4-.92-.59-1.43-.59-.52 0-1.04.2-1.43.59L10.3 9.45l-7.72 7.72c-.78.78-.78 2.05 0 2.83L4 21.41c.39.39.9.59 1.41.59.51 0 1.02-.2 1.41-.59l7.78-7.78 2.81-2.81c.8-.78.8-2.07 0-2.86zM5.41 20L4 18.59l7.72-7.72 1.47 1.35L5.41 20z\"/>\n",
       "  </svg>\n",
       "      </button>\n",
       "      \n",
       "  <style>\n",
       "    .colab-df-container {\n",
       "      display:flex;\n",
       "      flex-wrap:wrap;\n",
       "      gap: 12px;\n",
       "    }\n",
       "\n",
       "    .colab-df-convert {\n",
       "      background-color: #E8F0FE;\n",
       "      border: none;\n",
       "      border-radius: 50%;\n",
       "      cursor: pointer;\n",
       "      display: none;\n",
       "      fill: #1967D2;\n",
       "      height: 32px;\n",
       "      padding: 0 0 0 0;\n",
       "      width: 32px;\n",
       "    }\n",
       "\n",
       "    .colab-df-convert:hover {\n",
       "      background-color: #E2EBFA;\n",
       "      box-shadow: 0px 1px 2px rgba(60, 64, 67, 0.3), 0px 1px 3px 1px rgba(60, 64, 67, 0.15);\n",
       "      fill: #174EA6;\n",
       "    }\n",
       "\n",
       "    [theme=dark] .colab-df-convert {\n",
       "      background-color: #3B4455;\n",
       "      fill: #D2E3FC;\n",
       "    }\n",
       "\n",
       "    [theme=dark] .colab-df-convert:hover {\n",
       "      background-color: #434B5C;\n",
       "      box-shadow: 0px 1px 3px 1px rgba(0, 0, 0, 0.15);\n",
       "      filter: drop-shadow(0px 1px 2px rgba(0, 0, 0, 0.3));\n",
       "      fill: #FFFFFF;\n",
       "    }\n",
       "  </style>\n",
       "\n",
       "      <script>\n",
       "        const buttonEl =\n",
       "          document.querySelector('#df-3fbd0b5d-16f9-4cca-bdf8-43310bbef595 button.colab-df-convert');\n",
       "        buttonEl.style.display =\n",
       "          google.colab.kernel.accessAllowed ? 'block' : 'none';\n",
       "\n",
       "        async function convertToInteractive(key) {\n",
       "          const element = document.querySelector('#df-3fbd0b5d-16f9-4cca-bdf8-43310bbef595');\n",
       "          const dataTable =\n",
       "            await google.colab.kernel.invokeFunction('convertToInteractive',\n",
       "                                                     [key], {});\n",
       "          if (!dataTable) return;\n",
       "\n",
       "          const docLinkHtml = 'Like what you see? Visit the ' +\n",
       "            '<a target=\"_blank\" href=https://colab.research.google.com/notebooks/data_table.ipynb>data table notebook</a>'\n",
       "            + ' to learn more about interactive tables.';\n",
       "          element.innerHTML = '';\n",
       "          dataTable['output_type'] = 'display_data';\n",
       "          await google.colab.output.renderOutput(dataTable, element);\n",
       "          const docLink = document.createElement('div');\n",
       "          docLink.innerHTML = docLinkHtml;\n",
       "          element.appendChild(docLink);\n",
       "        }\n",
       "      </script>\n",
       "    </div>\n",
       "  </div>\n",
       "  "
      ],
      "text/plain": [
       "   enrollee_id  city  city_development_index  education_level  experience  \\\n",
       "0         8949   103                   0.920              3.0        22.0   \n",
       "1        29725    40                   0.776              3.0        16.0   \n",
       "2        11561    21                   0.624              3.0         6.0   \n",
       "3        33241   115                   0.789              3.0         1.0   \n",
       "4          666   162                   0.767              4.0        22.0   \n",
       "\n",
       "   company_size  last_new_job  training_hours  target  gender_Female  ...  \\\n",
       "0           3.0           1.0              36     1.0              0  ...   \n",
       "1           3.0           5.0              47     0.0              0  ...   \n",
       "2           3.0           6.0              83     0.0              0  ...   \n",
       "3           3.0           6.0              52     1.0              0  ...   \n",
       "4           3.0           4.0               8     0.0              0  ...   \n",
       "\n",
       "   major_discipline_Humanities  major_discipline_No Major  \\\n",
       "0                            0                          0   \n",
       "1                            0                          0   \n",
       "2                            0                          0   \n",
       "3                            0                          0   \n",
       "4                            0                          0   \n",
       "\n",
       "   major_discipline_Other  major_discipline_STEM  \\\n",
       "0                       0                      1   \n",
       "1                       0                      1   \n",
       "2                       0                      1   \n",
       "3                       0                      0   \n",
       "4                       0                      1   \n",
       "\n",
       "   company_type_Early Stage Startup  company_type_Funded Startup  \\\n",
       "0                                 0                            0   \n",
       "1                                 0                            0   \n",
       "2                                 0                            0   \n",
       "3                                 0                            0   \n",
       "4                                 0                            1   \n",
       "\n",
       "   company_type_NGO  company_type_Other  company_type_Public Sector  \\\n",
       "0                 0                   0                           0   \n",
       "1                 0                   0                           0   \n",
       "2                 0                   0                           0   \n",
       "3                 0                   0                           0   \n",
       "4                 0                   0                           0   \n",
       "\n",
       "   company_type_Pvt Ltd  \n",
       "0                     1  \n",
       "1                     1  \n",
       "2                     1  \n",
       "3                     1  \n",
       "4                     0  \n",
       "\n",
       "[5 rows x 28 columns]"
      ]
     },
     "execution_count": 20,
     "metadata": {},
     "output_type": "execute_result"
    }
   ],
   "source": [
    "# Conversion of categorical variables into numeric variables\n",
    "\n",
    "pd.options.mode.chained_assignment = None\n",
    "ordinal_atributes = ['education_level', 'experience', 'company_size', 'last_new_job']\n",
    "\n",
    "cardinal_atributes = ['gender', 'relevent_experience', 'enrolled_university', 'major_discipline', 'company_type']\n",
    "\n",
    "ordinal_pipeline = Pipeline([\n",
    "    ('OrdinalEncoder',OrdinalEncoder(categories=[\n",
    "                                    ['Unknown', 'Primary School',  'High School', 'Graduate', 'Masters', 'Phd'],\n",
    "                                    'Unknown,<1,1,2,3,4,5,6,7,8,9,10,11,12,13,14,15,16,17,18,19,20,>20'.split(','),\n",
    "                                    ['Unknown','<10', '10/49', '50-99', '100-500', '500-999' ,'1000-4999', '5000-9999', '10000+'],\n",
    "                                    ['Unknown','1', '2', '3', '4', '>4', 'never']\n",
    "                                ]))\n",
    "])\n",
    "\n",
    "ordinal_pipeline.fit(data[ordinal_atributes])\n",
    "data[ordinal_atributes] = ordinal_pipeline.transform(data[ordinal_atributes])\n",
    "data = pd.get_dummies(data, columns=cardinal_atributes)\n",
    "data.head()"
   ]
  },
  {
   "cell_type": "code",
   "execution_count": 21,
   "metadata": {
    "colab": {
     "base_uri": "https://localhost:8080/"
    },
    "id": "xpXDoACLBEiL",
    "outputId": "ccce535c-c92a-460a-ec0e-bf46842f08e8"
   },
   "outputs": [
    {
     "name": "stdout",
     "output_type": "stream",
     "text": [
      "<class 'pandas.core.frame.DataFrame'>\n",
      "Int64Index: 18967 entries, 0 to 19157\n",
      "Data columns (total 28 columns):\n",
      " #   Column                                       Non-Null Count  Dtype  \n",
      "---  ------                                       --------------  -----  \n",
      " 0   enrollee_id                                  18967 non-null  int64  \n",
      " 1   city                                         18967 non-null  int64  \n",
      " 2   city_development_index                       18967 non-null  float64\n",
      " 3   education_level                              18967 non-null  float64\n",
      " 4   experience                                   18967 non-null  float64\n",
      " 5   company_size                                 18967 non-null  float64\n",
      " 6   last_new_job                                 18967 non-null  float64\n",
      " 7   training_hours                               18967 non-null  int64  \n",
      " 8   target                                       18967 non-null  float64\n",
      " 9   gender_Female                                18967 non-null  uint8  \n",
      " 10  gender_Male                                  18967 non-null  uint8  \n",
      " 11  relevent_experience_Has relevent experience  18967 non-null  uint8  \n",
      " 12  relevent_experience_No relevent experience   18967 non-null  uint8  \n",
      " 13  enrolled_university_Full time course         18967 non-null  uint8  \n",
      " 14  enrolled_university_Part time course         18967 non-null  uint8  \n",
      " 15  enrolled_university_no_enrollment            18967 non-null  uint8  \n",
      " 16  major_discipline_Arts                        18967 non-null  uint8  \n",
      " 17  major_discipline_Business Degree             18967 non-null  uint8  \n",
      " 18  major_discipline_Humanities                  18967 non-null  uint8  \n",
      " 19  major_discipline_No Major                    18967 non-null  uint8  \n",
      " 20  major_discipline_Other                       18967 non-null  uint8  \n",
      " 21  major_discipline_STEM                        18967 non-null  uint8  \n",
      " 22  company_type_Early Stage Startup             18967 non-null  uint8  \n",
      " 23  company_type_Funded Startup                  18967 non-null  uint8  \n",
      " 24  company_type_NGO                             18967 non-null  uint8  \n",
      " 25  company_type_Other                           18967 non-null  uint8  \n",
      " 26  company_type_Public Sector                   18967 non-null  uint8  \n",
      " 27  company_type_Pvt Ltd                         18967 non-null  uint8  \n",
      "dtypes: float64(6), int64(3), uint8(19)\n",
      "memory usage: 1.8 MB\n"
     ]
    }
   ],
   "source": [
    "# Let's check how many columns do we have at this moment.\n",
    "\n",
    "data.info()"
   ]
  },
  {
   "cell_type": "code",
   "execution_count": 23,
   "metadata": {
    "colab": {
     "base_uri": "https://localhost:8080/"
    },
    "id": "etyUA0GRBKQl",
    "outputId": "0092831e-5810-4275-f962-ca9063bf2118"
   },
   "outputs": [
    {
     "name": "stdout",
     "output_type": "stream",
     "text": [
      "Imbalanced target class: Counter({0.0: 14240, 1.0: 4727})\n",
      "\n",
      "Balanced target class: Counter({1.0: 14240, 0.0: 14240})\n",
      "\n",
      "9513 new random picked points\n"
     ]
    }
   ],
   "source": [
    "# Balancing target variable\n",
    "\n",
    "#To balance our target variable, we will use RandomOverSampler from imblearn library.\n",
    "\n",
    "columns = data.columns.tolist()\n",
    "columns = [c for c in columns if c not in ['target']]\n",
    "y = data['target']\n",
    "X = data[columns]\n",
    "\n",
    "ros = RandomOverSampler(sampling_strategy='minority')\n",
    "X_ros, y_ros = ros.fit_resample(X, y)\n",
    "print(f\"Imbalanced target class: {Counter(y)}\\n\\nBalanced target class: {Counter(y_ros)}\\n\")\n",
    "print(X_ros.shape[0] - data.shape[0], 'new random picked points')"
   ]
  },
  {
   "cell_type": "code",
   "execution_count": 24,
   "metadata": {
    "colab": {
     "base_uri": "https://localhost:8080/",
     "height": 406
    },
    "id": "RGY0wXucBUoY",
    "outputId": "85e9e481-324a-497e-9400-58da175eac9a"
   },
   "outputs": [
    {
     "data": {
      "image/png": "[encoded data removed]",
      "text/plain": [
       "<Figure size 864x432 with 1 Axes>"
      ]
     },
     "metadata": {
      "needs_background": "light"
     },
     "output_type": "display_data"
    }
   ],
   "source": [
    "# We can see our result in barchart below\n",
    "\n",
    "plt.figure(figsize=(12,6))\n",
    "plt.title(\"Balanced target variable\", fontsize=15, fontweight='bold', fontname='Helvetica', ha='center')\n",
    "ax = sns.countplot(x=y_ros, data=data)"
   ]
  },
  {
   "cell_type": "code",
   "execution_count": 25,
   "metadata": {
    "colab": {
     "base_uri": "https://localhost:8080/"
    },
    "id": "RHjllNhVBZN7",
    "outputId": "6cd1b309-c855-433b-af54-0a97e4e12cf5"
   },
   "outputs": [
    {
     "name": "stdout",
     "output_type": "stream",
     "text": [
      "<class 'pandas.core.frame.DataFrame'>\n",
      "Int64Index: 18967 entries, 0 to 19157\n",
      "Data columns (total 28 columns):\n",
      " #   Column                                       Non-Null Count  Dtype  \n",
      "---  ------                                       --------------  -----  \n",
      " 0   enrollee_id                                  18967 non-null  int64  \n",
      " 1   city                                         18967 non-null  int64  \n",
      " 2   city_development_index                       18967 non-null  float64\n",
      " 3   education_level                              18967 non-null  float64\n",
      " 4   experience                                   18967 non-null  float64\n",
      " 5   company_size                                 18967 non-null  float64\n",
      " 6   last_new_job                                 18967 non-null  float64\n",
      " 7   training_hours                               18967 non-null  int64  \n",
      " 8   target                                       18967 non-null  float64\n",
      " 9   gender_Female                                18967 non-null  uint8  \n",
      " 10  gender_Male                                  18967 non-null  uint8  \n",
      " 11  relevent_experience_Has relevent experience  18967 non-null  uint8  \n",
      " 12  relevent_experience_No relevent experience   18967 non-null  uint8  \n",
      " 13  enrolled_university_Full time course         18967 non-null  uint8  \n",
      " 14  enrolled_university_Part time course         18967 non-null  uint8  \n",
      " 15  enrolled_university_no_enrollment            18967 non-null  uint8  \n",
      " 16  major_discipline_Arts                        18967 non-null  uint8  \n",
      " 17  major_discipline_Business Degree             18967 non-null  uint8  \n",
      " 18  major_discipline_Humanities                  18967 non-null  uint8  \n",
      " 19  major_discipline_No Major                    18967 non-null  uint8  \n",
      " 20  major_discipline_Other                       18967 non-null  uint8  \n",
      " 21  major_discipline_STEM                        18967 non-null  uint8  \n",
      " 22  company_type_Early Stage Startup             18967 non-null  uint8  \n",
      " 23  company_type_Funded Startup                  18967 non-null  uint8  \n",
      " 24  company_type_NGO                             18967 non-null  uint8  \n",
      " 25  company_type_Other                           18967 non-null  uint8  \n",
      " 26  company_type_Public Sector                   18967 non-null  uint8  \n",
      " 27  company_type_Pvt Ltd                         18967 non-null  uint8  \n",
      "dtypes: float64(6), int64(3), uint8(19)\n",
      "memory usage: 1.8 MB\n"
     ]
    }
   ],
   "source": [
    "data.info()"
   ]
  },
  {
   "cell_type": "code",
   "execution_count": 26,
   "metadata": {
    "colab": {
     "base_uri": "https://localhost:8080/"
    },
    "id": "QG0ELZ2JBb1O",
    "outputId": "09a3c303-5561-4c3a-bdcf-23db5915d919"
   },
   "outputs": [
    {
     "data": {
      "text/plain": [
       "(18967, 28)"
      ]
     },
     "execution_count": 26,
     "metadata": {},
     "output_type": "execute_result"
    }
   ],
   "source": [
    "data.shape"
   ]
  },
  {
   "cell_type": "code",
   "execution_count": 31,
   "metadata": {
    "colab": {
     "base_uri": "https://localhost:8080/"
    },
    "id": "o2qJ5NK2BfkC",
    "outputId": "01d9ce3e-90ed-41ab-807f-93530a3806c0"
   },
   "outputs": [
    {
     "data": {
      "text/plain": [
       "((13276, 27), (5691, 27), (13276,), (5691,))"
      ]
     },
     "execution_count": 31,
     "metadata": {},
     "output_type": "execute_result"
    }
   ],
   "source": [
    "# model\n",
    "X_train,X_test,y_train,y_test = train_test_split(X, y,test_size=0.3,stratify=y,random_state=42)\n",
    "X_train.shape,X_test.shape,y_train.shape,y_test.shape"
   ]
  },
  {
   "cell_type": "code",
   "execution_count": 32,
   "metadata": {
    "colab": {
     "base_uri": "https://localhost:8080/"
    },
    "id": "FlC7pYUGBqOR",
    "outputId": "7d16a360-d8db-418b-e527-379737e866e7"
   },
   "outputs": [
    {
     "name": "stdout",
     "output_type": "stream",
     "text": [
      "              precision    recall  f1-score   support\n",
      "\n",
      "         0.0       0.76      0.94      0.84      4273\n",
      "         1.0       0.40      0.12      0.18      1418\n",
      "\n",
      "    accuracy                           0.74      5691\n",
      "   macro avg       0.58      0.53      0.51      5691\n",
      "weighted avg       0.67      0.74      0.68      5691\n",
      "\n",
      "The accuracy score with using the KNN is : 0.7360745036021789\n"
     ]
    }
   ],
   "source": [
    "# KNN\n",
    "\n",
    "knnc = KNeighborsClassifier(n_neighbors=4)\n",
    "knnc.fit(X_train, y_train)\n",
    "y_pred_knnc = knnc.predict(X_test)\n",
    "\n",
    "print(classification_report(y_test, y_pred_knnc))\n",
    "print('The accuracy score with using the KNN is :',accuracy_score(y_test,y_pred_knnc))"
   ]
  },
  {
   "cell_type": "code",
   "execution_count": 46,
   "metadata": {
    "colab": {
     "base_uri": "https://localhost:8080/"
    },
    "id": "G2S9JBSvBvAK",
    "outputId": "20cc1848-27f0-446a-93bc-72ee2e8b5dc9"
   },
   "outputs": [
    {
     "name": "stdout",
     "output_type": "stream",
     "text": [
      "Fitting 3 folds for each of 15 candidates, totalling 45 fits\n",
      "The accuracy score with using the tuned KNN is:  0.7522597253176956\n"
     ]
    }
   ],
   "source": [
    "#hyperparameter tuning\n",
    "params = {'n_neighbors': np.arange(1, 31, 2), \"metric\": [\"euclidean\"]}\n",
    "grid_search_cv = GridSearchCV(KNeighborsClassifier(), params, verbose=1, cv=3)\n",
    "grid_search_cv.fit(X_train, y_train)\n",
    "# returns the best model\n",
    "#grid_search_cv.best_estimator_\n",
    "\n",
    "# the best parameters\n",
    "grid_search_cv.best_params_\n",
    "# results obtained by the best model\n",
    "knn_accuracy = grid_search_cv.best_score_ \n",
    "print('The accuracy score with using the tuned KNN is: ', knn_accuracy)"
   ]
  },
  {
   "cell_type": "code",
   "execution_count": 44,
   "metadata": {
    "colab": {
     "base_uri": "https://localhost:8080/"
    },
    "id": "N1Emlp-uG6sB",
    "outputId": "00f71765-9ed8-409e-8990-cd43f60a404f"
   },
   "outputs": [
    {
     "name": "stdout",
     "output_type": "stream",
     "text": [
      "              precision    recall  f1-score   support\n",
      "\n",
      "         0.0       0.83      0.90      0.86      4273\n",
      "         1.0       0.59      0.44      0.50      1418\n",
      "\n",
      "    accuracy                           0.78      5691\n",
      "   macro avg       0.71      0.67      0.68      5691\n",
      "weighted avg       0.77      0.78      0.77      5691\n",
      "\n",
      "The accuracy score with using the decision tree classifier is : 0.7829906870497276\n"
     ]
    }
   ],
   "source": [
    "# decision tree\n",
    "\n",
    "dtc = DecisionTreeClassifier(max_depth = 3, random_state=0)\n",
    "\n",
    "dtc.fit(X_train, y_train)\n",
    "y_pred_dtc = dtc.predict(X_test)\n",
    "#metrics.accuracy_score(y_test, y_pred_dtc)\n",
    "\n",
    "print(classification_report(y_test, y_pred_dtc))\n",
    "print('The accuracy score with using the decision tree classifier is :',accuracy_score(y_test,y_pred_dtc))"
   ]
  },
  {
   "cell_type": "code",
   "execution_count": 45,
   "metadata": {
    "colab": {
     "base_uri": "https://localhost:8080/"
    },
    "id": "05KcDZSQHEBL",
    "outputId": "6e31324a-5ffe-4f63-eca5-441a1e561826"
   },
   "outputs": [
    {
     "name": "stdout",
     "output_type": "stream",
     "text": [
      "Fitting 3 folds for each of 294 candidates, totalling 882 fits\n",
      "The accuracy score with using the tuned decision tree classifier is:  0.7823893054481181\n"
     ]
    }
   ],
   "source": [
    "# hyper parametuning\n",
    "\n",
    "params = {'max_leaf_nodes': list(range(2, 100)), 'min_samples_split': [2, 3, 4]}\n",
    "grid_search_cv = GridSearchCV(DecisionTreeClassifier(random_state=42), params, verbose=1, cv=3)\n",
    "grid_search_cv.fit(X_train, y_train)\n",
    "# returns the best model\n",
    "grid_search_cv.best_estimator_\n",
    "# the best parameters\n",
    "grid_search_cv.best_params_\n",
    "# results obtained by the best model\n",
    "dt_accuracy = grid_search_cv.best_score_ \n",
    "print('The accuracy score with using the tuned decision tree classifier is: ', dt_accuracy)\n"
   ]
  },
  {
   "cell_type": "code",
   "execution_count": 37,
   "metadata": {
    "colab": {
     "base_uri": "https://localhost:8080/"
    },
    "id": "kEqLQI2pE_fn",
    "outputId": "fa3a282b-a7ac-413f-bb17-0d68237e1b62"
   },
   "outputs": [
    {
     "name": "stdout",
     "output_type": "stream",
     "text": [
      "              precision    recall  f1-score   support\n",
      "\n",
      "         0.0       0.81      0.91      0.85      4273\n",
      "         1.0       0.55      0.34      0.42      1418\n",
      "\n",
      "    accuracy                           0.77      5691\n",
      "   macro avg       0.68      0.63      0.64      5691\n",
      "weighted avg       0.74      0.77      0.75      5691\n",
      "\n",
      "The accuracy score with using the Random Forest is : 0.767351959233878\n"
     ]
    }
   ],
   "source": [
    "#RANDOM FOREST\n",
    "\n",
    "rfc = RandomForestClassifier(n_estimators = 50, class_weight = {0:1, 1:4})\n",
    "rfc.fit(X_train, y_train)\n",
    "y_pred_rfc = rfc.predict(X_test)\n",
    "\n",
    "print(classification_report(y_test, y_pred_rfc))\n",
    "print('The accuracy score with using the Random Forest is :',accuracy_score(y_test,y_pred_rfc))"
   ]
  },
  {
   "cell_type": "code",
   "execution_count": 48,
   "metadata": {
    "colab": {
     "base_uri": "https://localhost:8080/"
    },
    "id": "SVFRWn5JHoGz",
    "outputId": "6953a664-22c3-40e6-9464-13d0262edf43"
   },
   "outputs": [
    {
     "name": "stdout",
     "output_type": "stream",
     "text": [
      "Fitting 3 folds for each of 54 candidates, totalling 162 fits\n",
      "The accuracy score with using the tuned Random Forest is : 0.7695089366634243\n"
     ]
    }
   ],
   "source": [
    "params = {'max_leaf_nodes': list(range(2, 20)), 'min_samples_split': [2, 3, 4]}\n",
    "grid_search_cv = GridSearchCV(RandomForestClassifier(random_state=42), params, verbose=1, cv=3)\n",
    "grid_search_cv.fit(X_train, y_train)\n",
    "\n",
    "grid_search_cv.best_estimator_\n",
    "grid_search_cv.best_params_\n",
    "rf_accuracy = grid_search_cv.best_score_ \n",
    "print('The accuracy score with using the tuned Random Forest is :',rf_accuracy)\n"
   ]
  },
  {
   "cell_type": "code",
   "execution_count": 41,
   "metadata": {
    "colab": {
     "base_uri": "https://localhost:8080/"
    },
    "id": "XxLmZmVFFTqP",
    "outputId": "33287312-deb6-4cb3-9a38-937cbda7551b"
   },
   "outputs": [
    {
     "name": "stdout",
     "output_type": "stream",
     "text": [
      "The accuracy using the XGBclassifier is : 0.7812335266209804\n"
     ]
    }
   ],
   "source": [
    "# XGB Classifier\n",
    "\n",
    "xgbc = XGBClassifier(use_label_encoder=False)\n",
    "xgbc.fit(X_train,y_train)\n",
    "xgb_accuracy = accuracy_score(y_test,xgbc.predict(X_test))\n",
    "print('The accuracy using the XGBclassifier is :', xgb_accuracy)"
   ]
  },
  {
   "cell_type": "code",
   "execution_count": 49,
   "metadata": {
    "colab": {
     "base_uri": "https://localhost:8080/"
    },
    "id": "FHZJtul_GYYQ",
    "outputId": "1f10f282-aa0f-4567-d6a6-f3495553f2e9"
   },
   "outputs": [
    {
     "name": "stdout",
     "output_type": "stream",
     "text": [
      "The best score has the model:  Decision Tree Accuracy\n"
     ]
    }
   ],
   "source": [
    "# comparision of models\n",
    "\n",
    "accuracies = {\"Decision Tree Accuracy\":dt_accuracy,  \"Random Forest Accuracy\":rf_accuracy, \"XGB Accuracy\":xgb_accuracy, \"KNN Accuracy\":knn_accuracy}\n",
    "print(\"The best score has the model: \", max(accuracies, key=accuracies.get))"
   ]
  },
  {
   "cell_type": "code",
   "execution_count": 51,
   "metadata": {
    "colab": {
     "base_uri": "https://localhost:8080/",
     "height": 607
    },
    "id": "o2i4jn9vIl3x",
    "outputId": "9f091871-8202-4fd6-be40-91a068fe44d0"
   },
   "outputs": [
    {
     "data": {
      "image/png": "[encoded data removed]",
      "text/plain": [
       "<Figure size 1440x720 with 1 Axes>"
      ]
     },
     "metadata": {
      "needs_background": "light"
     },
     "output_type": "display_data"
    }
   ],
   "source": [
    "# check how good were the other ones\n",
    "plt.figure(figsize=(20,10))\n",
    "plt.bar(*zip(*accuracies.items()), color=colorblind_palette, width = 0.8)\n",
    "plt.title(\"Comparison of different models accuracies\")\n",
    "plt.grid(axis = 'y', linewidth = 0.5)\n",
    "plt.show()"
   ]
  }
 ],
 "metadata": {
  "colab": {
   "name": "Untitled8.ipynb",
   "provenance": []
  },
  "kernelspec": {
   "display_name": "Python 3 (ipykernel)",
   "language": "python",
   "name": "python3"
  },
  "language_info": {
   "name": "python"
  }
 },
 "nbformat": 4,
 "nbformat_minor": 4
}
